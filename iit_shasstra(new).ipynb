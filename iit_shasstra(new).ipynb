{
  "metadata": {
    "kernelspec": {
      "language": "python",
      "display_name": "Python 3",
      "name": "python3"
    },
    "language_info": {
      "name": "python",
      "version": "3.10.13",
      "mimetype": "text/x-python",
      "codemirror_mode": {
        "name": "ipython",
        "version": 3
      },
      "pygments_lexer": "ipython3",
      "nbconvert_exporter": "python",
      "file_extension": ".py"
    },
    "kaggle": {
      "accelerator": "nvidiaTeslaT4",
      "dataSources": [
        {
          "sourceId": 8218283,
          "sourceType": "datasetVersion",
          "datasetId": 4871479
        }
      ],
      "isInternetEnabled": true,
      "language": "python",
      "sourceType": "notebook",
      "isGpuEnabled": true
    },
    "colab": {
      "provenance": [],
      "include_colab_link": true
    }
  },
  "nbformat_minor": 0,
  "nbformat": 4,
  "cells": [
    {
      "cell_type": "markdown",
      "metadata": {
        "id": "view-in-github",
        "colab_type": "text"
      },
      "source": [
        "<a href=\"https://colab.research.google.com/github/SANTHAN-2006/Lumi-HSP/blob/main/iit_shasstra(new).ipynb\" target=\"_parent\"><img src=\"https://colab.research.google.com/assets/colab-badge.svg\" alt=\"Open In Colab\"/></a>"
      ]
    },
    {
      "cell_type": "code",
      "source": [
        "import pandas as pd\n",
        "# Load datasets\n",
        "test_data = pd.read_csv(\"/content/test_data_covid.csv\")\n",
        "train_data  = pd.read_csv(\"/content/train_data_covid.csv\")\n",
        "train_data.info()"
      ],
      "metadata": {
        "colab": {
          "base_uri": "https://localhost:8080/"
        },
        "id": "wxDgygq2y-QX",
        "outputId": "0f8d1363-9710-4393-ac64-6914106b5ad6"
      },
      "execution_count": 6,
      "outputs": [
        {
          "output_type": "stream",
          "name": "stdout",
          "text": [
            "<class 'pandas.core.frame.DataFrame'>\n",
            "RangeIndex: 15001 entries, 0 to 15000\n",
            "Data columns (total 11 columns):\n",
            " #   Column                    Non-Null Count  Dtype \n",
            "---  ------                    --------------  ----- \n",
            " 0   Sno                       15001 non-null  int64 \n",
            " 1   Date                      15001 non-null  object\n",
            " 2   Time                      15001 non-null  object\n",
            " 3   State/UnionTerritory      15001 non-null  object\n",
            " 4   ConfirmedIndianNational   15001 non-null  object\n",
            " 5   ConfirmedForeignNational  15001 non-null  object\n",
            " 6   Cured                     15001 non-null  int64 \n",
            " 7   Deaths                    15001 non-null  int64 \n",
            " 8   Confirmed                 15001 non-null  int64 \n",
            " 9   OxygenTanks               15001 non-null  int64 \n",
            " 10  PopulationDensityPerSqKm  15001 non-null  int64 \n",
            "dtypes: int64(6), object(5)\n",
            "memory usage: 1.3+ MB\n"
          ]
        }
      ]
    },
    {
      "cell_type": "code",
      "source": [
        "# Data preprocessing\n",
        "# Conversion of date and time to individual columns\n",
        "df2 = train_data.convert_dtypes()\n",
        "\n",
        "dt_pr = pd.to_datetime(train_data['Date'], format='mixed')\n",
        "tm_pr = pd.to_datetime(train_data['Time'], format='mixed')\n",
        "\n",
        "df2['Day'], df2['Month'], df2['Year'] = dt_pr.dt.day, dt_pr.dt.month, dt_pr.dt.year\n",
        "df2['Hour'] = tm_pr.dt.hour\n",
        "df2['Minutes'] = tm_pr.dt.minute\n",
        "\n",
        "df2 = df2.drop(columns=['Date', 'Time'])\n",
        "df2 = df2.rename(columns={\"State/UnionTerritory\": \"State\"})\n",
        "\n",
        "# One-hot encoding for the 'State' column\n",
        "df2 = pd.get_dummies(df2, columns=['State'], drop_first=True)\n",
        "\n",
        "df2.info()\n"
      ],
      "metadata": {
        "execution": {
          "iopub.status.busy": "2024-04-26T05:31:55.188679Z",
          "iopub.execute_input": "2024-04-26T05:31:55.189120Z",
          "iopub.status.idle": "2024-04-26T05:31:55.224949Z",
          "shell.execute_reply.started": "2024-04-26T05:31:55.189093Z",
          "shell.execute_reply": "2024-04-26T05:31:55.224103Z"
        },
        "trusted": true,
        "colab": {
          "base_uri": "https://localhost:8080/"
        },
        "id": "rrBGpMG1wVM5",
        "outputId": "3ee6d13d-591e-4ed4-f3e9-7ff30a1f05b3"
      },
      "execution_count": 27,
      "outputs": [
        {
          "output_type": "stream",
          "name": "stdout",
          "text": [
            "<class 'pandas.core.frame.DataFrame'>\n",
            "RangeIndex: 15001 entries, 0 to 15000\n",
            "Data columns (total 52 columns):\n",
            " #   Column                                          Non-Null Count  Dtype \n",
            "---  ------                                          --------------  ----- \n",
            " 0   Sno                                             15001 non-null  Int64 \n",
            " 1   ConfirmedIndianNational                         15001 non-null  string\n",
            " 2   ConfirmedForeignNational                        15001 non-null  string\n",
            " 3   Cured                                           15001 non-null  Int64 \n",
            " 4   Deaths                                          15001 non-null  Int64 \n",
            " 5   Confirmed                                       15001 non-null  Int64 \n",
            " 6   OxygenTanks                                     15001 non-null  Int64 \n",
            " 7   PopulationDensityPerSqKm                        15001 non-null  Int64 \n",
            " 8   Day                                             15001 non-null  int32 \n",
            " 9   Month                                           15001 non-null  int32 \n",
            " 10  Year                                            15001 non-null  int32 \n",
            " 11  Hour                                            15001 non-null  int32 \n",
            " 12  Minutes                                         15001 non-null  int32 \n",
            " 13  State_Andhra Pradesh                            15001 non-null  bool  \n",
            " 14  State_Arunachal Pradesh                         15001 non-null  bool  \n",
            " 15  State_Assam                                     15001 non-null  bool  \n",
            " 16  State_Bihar                                     15001 non-null  bool  \n",
            " 17  State_Cases being reassigned to states          15001 non-null  bool  \n",
            " 18  State_Chandigarh                                15001 non-null  bool  \n",
            " 19  State_Chhattisgarh                              15001 non-null  bool  \n",
            " 20  State_Dadra and Nagar Haveli and Daman and Diu  15001 non-null  bool  \n",
            " 21  State_Daman & Diu                               15001 non-null  bool  \n",
            " 22  State_Delhi                                     15001 non-null  bool  \n",
            " 23  State_Goa                                       15001 non-null  bool  \n",
            " 24  State_Gujarat                                   15001 non-null  bool  \n",
            " 25  State_Haryana                                   15001 non-null  bool  \n",
            " 26  State_Himachal Pradesh                          15001 non-null  bool  \n",
            " 27  State_Jammu and Kashmir                         15001 non-null  bool  \n",
            " 28  State_Jharkhand                                 15001 non-null  bool  \n",
            " 29  State_Karnataka                                 15001 non-null  bool  \n",
            " 30  State_Kerala                                    15001 non-null  bool  \n",
            " 31  State_Ladakh                                    15001 non-null  bool  \n",
            " 32  State_Lakshadweep                               15001 non-null  bool  \n",
            " 33  State_Madhya Pradesh                            15001 non-null  bool  \n",
            " 34  State_Maharashtra                               15001 non-null  bool  \n",
            " 35  State_Manipur                                   15001 non-null  bool  \n",
            " 36  State_Meghalaya                                 15001 non-null  bool  \n",
            " 37  State_Mizoram                                   15001 non-null  bool  \n",
            " 38  State_Nagaland                                  15001 non-null  bool  \n",
            " 39  State_Odisha                                    15001 non-null  bool  \n",
            " 40  State_Puducherry                                15001 non-null  bool  \n",
            " 41  State_Punjab                                    15001 non-null  bool  \n",
            " 42  State_Rajasthan                                 15001 non-null  bool  \n",
            " 43  State_Sikkim                                    15001 non-null  bool  \n",
            " 44  State_Tamil Nadu                                15001 non-null  bool  \n",
            " 45  State_Telangana                                 15001 non-null  bool  \n",
            " 46  State_Telengana                                 15001 non-null  bool  \n",
            " 47  State_Tripura                                   15001 non-null  bool  \n",
            " 48  State_Unassigned                                15001 non-null  bool  \n",
            " 49  State_Uttar Pradesh                             15001 non-null  bool  \n",
            " 50  State_Uttarakhand                               15001 non-null  bool  \n",
            " 51  State_West Bengal                               15001 non-null  bool  \n",
            "dtypes: Int64(6), bool(39), int32(5), string(2)\n",
            "memory usage: 1.8 MB\n"
          ]
        }
      ]
    },
    {
      "cell_type": "code",
      "source": [
        "# Data preprocessing\n",
        "# Conversion of date and time to individual columns\n",
        "df3 = test_data.convert_dtypes()\n",
        "\n",
        "dt_pr = pd.to_datetime(test_data['Date'], format='mixed')\n",
        "tm_pr = pd.to_datetime(test_data['Time'], format='mixed')\n",
        "\n",
        "df3['Day'], df3['Month'], df3['Year'] = dt_pr.dt.day, dt_pr.dt.month, dt_pr.dt.year\n",
        "df3['Hour'] = tm_pr.dt.hour\n",
        "df3['Minutes'] = tm_pr.dt.minute\n",
        "\n",
        "df3 = df3.drop(columns=['Date', 'Time'])\n",
        "df3 = df3.rename(columns={\"State/UnionTerritory\": \"State\"})\n",
        "\n",
        "# One-hot encoding for the 'State' column\n",
        "df3 = pd.get_dummies(df3, columns=['State'], drop_first=True)\n",
        "\n",
        "df3.info()\n"
      ],
      "metadata": {
        "execution": {
          "iopub.status.busy": "2024-04-26T05:31:55.697846Z",
          "iopub.execute_input": "2024-04-26T05:31:55.698599Z",
          "iopub.status.idle": "2024-04-26T05:31:55.721619Z",
          "shell.execute_reply.started": "2024-04-26T05:31:55.698560Z",
          "shell.execute_reply": "2024-04-26T05:31:55.720781Z"
        },
        "trusted": true,
        "colab": {
          "base_uri": "https://localhost:8080/"
        },
        "id": "H4sD8eXywVM5",
        "outputId": "ec9aac8a-c2b1-4214-c38a-b0fb3554bfcf"
      },
      "execution_count": 28,
      "outputs": [
        {
          "output_type": "stream",
          "name": "stdout",
          "text": [
            "<class 'pandas.core.frame.DataFrame'>\n",
            "RangeIndex: 3110 entries, 0 to 3109\n",
            "Data columns (total 53 columns):\n",
            " #   Column                                          Non-Null Count  Dtype \n",
            "---  ------                                          --------------  ----- \n",
            " 0   Sno                                             3110 non-null   Int64 \n",
            " 1   ConfirmedIndianNational                         3110 non-null   string\n",
            " 2   ConfirmedForeignNational                        3110 non-null   string\n",
            " 3   Cured                                           3110 non-null   Int64 \n",
            " 4   Confirmed                                       3110 non-null   Int64 \n",
            " 5   OxygenTanks                                     3110 non-null   Int64 \n",
            " 6   PopulationDensityPerSqKm                        3110 non-null   Int64 \n",
            " 7   Day                                             3110 non-null   int32 \n",
            " 8   Month                                           3110 non-null   int32 \n",
            " 9   Year                                            3110 non-null   int32 \n",
            " 10  Hour                                            3110 non-null   int32 \n",
            " 11  Minutes                                         3110 non-null   int32 \n",
            " 12  State_Andhra Pradesh                            3110 non-null   bool  \n",
            " 13  State_Arunachal Pradesh                         3110 non-null   bool  \n",
            " 14  State_Assam                                     3110 non-null   bool  \n",
            " 15  State_Bihar                                     3110 non-null   bool  \n",
            " 16  State_Bihar****                                 3110 non-null   bool  \n",
            " 17  State_Chandigarh                                3110 non-null   bool  \n",
            " 18  State_Chhattisgarh                              3110 non-null   bool  \n",
            " 19  State_Dadra and Nagar Haveli                    3110 non-null   bool  \n",
            " 20  State_Dadra and Nagar Haveli and Daman and Diu  3110 non-null   bool  \n",
            " 21  State_Delhi                                     3110 non-null   bool  \n",
            " 22  State_Goa                                       3110 non-null   bool  \n",
            " 23  State_Gujarat                                   3110 non-null   bool  \n",
            " 24  State_Haryana                                   3110 non-null   bool  \n",
            " 25  State_Himachal Pradesh                          3110 non-null   bool  \n",
            " 26  State_Himanchal Pradesh                         3110 non-null   bool  \n",
            " 27  State_Jammu and Kashmir                         3110 non-null   bool  \n",
            " 28  State_Jharkhand                                 3110 non-null   bool  \n",
            " 29  State_Karanataka                                3110 non-null   bool  \n",
            " 30  State_Karnataka                                 3110 non-null   bool  \n",
            " 31  State_Kerala                                    3110 non-null   bool  \n",
            " 32  State_Ladakh                                    3110 non-null   bool  \n",
            " 33  State_Lakshadweep                               3110 non-null   bool  \n",
            " 34  State_Madhya Pradesh                            3110 non-null   bool  \n",
            " 35  State_Madhya Pradesh***                         3110 non-null   bool  \n",
            " 36  State_Maharashtra                               3110 non-null   bool  \n",
            " 37  State_Maharashtra***                            3110 non-null   bool  \n",
            " 38  State_Manipur                                   3110 non-null   bool  \n",
            " 39  State_Meghalaya                                 3110 non-null   bool  \n",
            " 40  State_Mizoram                                   3110 non-null   bool  \n",
            " 41  State_Nagaland                                  3110 non-null   bool  \n",
            " 42  State_Odisha                                    3110 non-null   bool  \n",
            " 43  State_Puducherry                                3110 non-null   bool  \n",
            " 44  State_Punjab                                    3110 non-null   bool  \n",
            " 45  State_Rajasthan                                 3110 non-null   bool  \n",
            " 46  State_Sikkim                                    3110 non-null   bool  \n",
            " 47  State_Tamil Nadu                                3110 non-null   bool  \n",
            " 48  State_Telangana                                 3110 non-null   bool  \n",
            " 49  State_Tripura                                   3110 non-null   bool  \n",
            " 50  State_Uttar Pradesh                             3110 non-null   bool  \n",
            " 51  State_Uttarakhand                               3110 non-null   bool  \n",
            " 52  State_West Bengal                               3110 non-null   bool  \n",
            "dtypes: Int64(5), bool(41), int32(5), string(2)\n",
            "memory usage: 370.7 KB\n"
          ]
        }
      ]
    },
    {
      "cell_type": "code",
      "source": [
        "# applied one-hot encoding so, ignoring this step\n",
        "#from sklearn.preprocessing import LabelEncoder\n",
        "#le=LabelEncoder()\n",
        "#df2['State']=le.fit_transform(df2['State'])\n",
        "#df2"
      ],
      "metadata": {
        "execution": {
          "iopub.status.busy": "2024-04-26T05:31:56.003087Z",
          "iopub.execute_input": "2024-04-26T05:31:56.003442Z",
          "iopub.status.idle": "2024-04-26T05:31:56.025855Z",
          "shell.execute_reply.started": "2024-04-26T05:31:56.003418Z",
          "shell.execute_reply": "2024-04-26T05:31:56.024841Z"
        },
        "trusted": true,
        "id": "V-vUuq3zwVM6"
      },
      "execution_count": 45,
      "outputs": []
    },
    {
      "cell_type": "code",
      "source": [
        "df2.info()"
      ],
      "metadata": {
        "execution": {
          "iopub.status.busy": "2024-04-26T05:31:56.422617Z",
          "iopub.execute_input": "2024-04-26T05:31:56.423085Z",
          "iopub.status.idle": "2024-04-26T05:31:56.433637Z",
          "shell.execute_reply.started": "2024-04-26T05:31:56.423059Z",
          "shell.execute_reply": "2024-04-26T05:31:56.432730Z"
        },
        "trusted": true,
        "colab": {
          "base_uri": "https://localhost:8080/"
        },
        "id": "sW7a2nDnwVM6",
        "outputId": "a671f67f-a4e1-491c-d6d5-5e87d94293b1"
      },
      "execution_count": 31,
      "outputs": [
        {
          "output_type": "stream",
          "name": "stdout",
          "text": [
            "<class 'pandas.core.frame.DataFrame'>\n",
            "RangeIndex: 15001 entries, 0 to 15000\n",
            "Data columns (total 52 columns):\n",
            " #   Column                                          Non-Null Count  Dtype \n",
            "---  ------                                          --------------  ----- \n",
            " 0   Sno                                             15001 non-null  Int64 \n",
            " 1   ConfirmedIndianNational                         15001 non-null  string\n",
            " 2   ConfirmedForeignNational                        15001 non-null  string\n",
            " 3   Cured                                           15001 non-null  Int64 \n",
            " 4   Deaths                                          15001 non-null  Int64 \n",
            " 5   Confirmed                                       15001 non-null  Int64 \n",
            " 6   OxygenTanks                                     15001 non-null  Int64 \n",
            " 7   PopulationDensityPerSqKm                        15001 non-null  Int64 \n",
            " 8   Day                                             15001 non-null  int32 \n",
            " 9   Month                                           15001 non-null  int32 \n",
            " 10  Year                                            15001 non-null  int32 \n",
            " 11  Hour                                            15001 non-null  int32 \n",
            " 12  Minutes                                         15001 non-null  int32 \n",
            " 13  State_Andhra Pradesh                            15001 non-null  bool  \n",
            " 14  State_Arunachal Pradesh                         15001 non-null  bool  \n",
            " 15  State_Assam                                     15001 non-null  bool  \n",
            " 16  State_Bihar                                     15001 non-null  bool  \n",
            " 17  State_Cases being reassigned to states          15001 non-null  bool  \n",
            " 18  State_Chandigarh                                15001 non-null  bool  \n",
            " 19  State_Chhattisgarh                              15001 non-null  bool  \n",
            " 20  State_Dadra and Nagar Haveli and Daman and Diu  15001 non-null  bool  \n",
            " 21  State_Daman & Diu                               15001 non-null  bool  \n",
            " 22  State_Delhi                                     15001 non-null  bool  \n",
            " 23  State_Goa                                       15001 non-null  bool  \n",
            " 24  State_Gujarat                                   15001 non-null  bool  \n",
            " 25  State_Haryana                                   15001 non-null  bool  \n",
            " 26  State_Himachal Pradesh                          15001 non-null  bool  \n",
            " 27  State_Jammu and Kashmir                         15001 non-null  bool  \n",
            " 28  State_Jharkhand                                 15001 non-null  bool  \n",
            " 29  State_Karnataka                                 15001 non-null  bool  \n",
            " 30  State_Kerala                                    15001 non-null  bool  \n",
            " 31  State_Ladakh                                    15001 non-null  bool  \n",
            " 32  State_Lakshadweep                               15001 non-null  bool  \n",
            " 33  State_Madhya Pradesh                            15001 non-null  bool  \n",
            " 34  State_Maharashtra                               15001 non-null  bool  \n",
            " 35  State_Manipur                                   15001 non-null  bool  \n",
            " 36  State_Meghalaya                                 15001 non-null  bool  \n",
            " 37  State_Mizoram                                   15001 non-null  bool  \n",
            " 38  State_Nagaland                                  15001 non-null  bool  \n",
            " 39  State_Odisha                                    15001 non-null  bool  \n",
            " 40  State_Puducherry                                15001 non-null  bool  \n",
            " 41  State_Punjab                                    15001 non-null  bool  \n",
            " 42  State_Rajasthan                                 15001 non-null  bool  \n",
            " 43  State_Sikkim                                    15001 non-null  bool  \n",
            " 44  State_Tamil Nadu                                15001 non-null  bool  \n",
            " 45  State_Telangana                                 15001 non-null  bool  \n",
            " 46  State_Telengana                                 15001 non-null  bool  \n",
            " 47  State_Tripura                                   15001 non-null  bool  \n",
            " 48  State_Unassigned                                15001 non-null  bool  \n",
            " 49  State_Uttar Pradesh                             15001 non-null  bool  \n",
            " 50  State_Uttarakhand                               15001 non-null  bool  \n",
            " 51  State_West Bengal                               15001 non-null  bool  \n",
            "dtypes: Int64(6), bool(39), int32(5), string(2)\n",
            "memory usage: 1.8 MB\n"
          ]
        }
      ]
    },
    {
      "cell_type": "code",
      "source": [
        "# No need for LabelEncoder since one-hot encoding was applied\n",
        "# Remove this cell or comment it out\n",
        "# from sklearn.preprocessing import LabelEncoder\n",
        "# le = LabelEncoder()\n",
        "# df3['State'] = le.fit_transform(df3['State'])\n",
        "# df3"
      ],
      "metadata": {
        "execution": {
          "iopub.status.busy": "2024-04-26T05:31:57.552009Z",
          "iopub.execute_input": "2024-04-26T05:31:57.552631Z",
          "iopub.status.idle": "2024-04-26T05:31:57.570357Z",
          "shell.execute_reply.started": "2024-04-26T05:31:57.552602Z",
          "shell.execute_reply": "2024-04-26T05:31:57.569417Z"
        },
        "trusted": true,
        "id": "Bf9_qVECwVM6"
      },
      "execution_count": 33,
      "outputs": []
    },
    {
      "cell_type": "code",
      "source": [
        "df3.info()"
      ],
      "metadata": {
        "execution": {
          "iopub.status.busy": "2024-04-26T05:31:59.120401Z",
          "iopub.execute_input": "2024-04-26T05:31:59.121214Z",
          "iopub.status.idle": "2024-04-26T05:31:59.132035Z",
          "shell.execute_reply.started": "2024-04-26T05:31:59.121181Z",
          "shell.execute_reply": "2024-04-26T05:31:59.131174Z"
        },
        "trusted": true,
        "colab": {
          "base_uri": "https://localhost:8080/"
        },
        "id": "2koXMzOAwVM6",
        "outputId": "fb297a37-1504-42e4-c416-2968e7b0300c"
      },
      "execution_count": 34,
      "outputs": [
        {
          "output_type": "stream",
          "name": "stdout",
          "text": [
            "<class 'pandas.core.frame.DataFrame'>\n",
            "RangeIndex: 3110 entries, 0 to 3109\n",
            "Data columns (total 53 columns):\n",
            " #   Column                                          Non-Null Count  Dtype \n",
            "---  ------                                          --------------  ----- \n",
            " 0   Sno                                             3110 non-null   Int64 \n",
            " 1   ConfirmedIndianNational                         3110 non-null   string\n",
            " 2   ConfirmedForeignNational                        3110 non-null   string\n",
            " 3   Cured                                           3110 non-null   Int64 \n",
            " 4   Confirmed                                       3110 non-null   Int64 \n",
            " 5   OxygenTanks                                     3110 non-null   Int64 \n",
            " 6   PopulationDensityPerSqKm                        3110 non-null   Int64 \n",
            " 7   Day                                             3110 non-null   int32 \n",
            " 8   Month                                           3110 non-null   int32 \n",
            " 9   Year                                            3110 non-null   int32 \n",
            " 10  Hour                                            3110 non-null   int32 \n",
            " 11  Minutes                                         3110 non-null   int32 \n",
            " 12  State_Andhra Pradesh                            3110 non-null   bool  \n",
            " 13  State_Arunachal Pradesh                         3110 non-null   bool  \n",
            " 14  State_Assam                                     3110 non-null   bool  \n",
            " 15  State_Bihar                                     3110 non-null   bool  \n",
            " 16  State_Bihar****                                 3110 non-null   bool  \n",
            " 17  State_Chandigarh                                3110 non-null   bool  \n",
            " 18  State_Chhattisgarh                              3110 non-null   bool  \n",
            " 19  State_Dadra and Nagar Haveli                    3110 non-null   bool  \n",
            " 20  State_Dadra and Nagar Haveli and Daman and Diu  3110 non-null   bool  \n",
            " 21  State_Delhi                                     3110 non-null   bool  \n",
            " 22  State_Goa                                       3110 non-null   bool  \n",
            " 23  State_Gujarat                                   3110 non-null   bool  \n",
            " 24  State_Haryana                                   3110 non-null   bool  \n",
            " 25  State_Himachal Pradesh                          3110 non-null   bool  \n",
            " 26  State_Himanchal Pradesh                         3110 non-null   bool  \n",
            " 27  State_Jammu and Kashmir                         3110 non-null   bool  \n",
            " 28  State_Jharkhand                                 3110 non-null   bool  \n",
            " 29  State_Karanataka                                3110 non-null   bool  \n",
            " 30  State_Karnataka                                 3110 non-null   bool  \n",
            " 31  State_Kerala                                    3110 non-null   bool  \n",
            " 32  State_Ladakh                                    3110 non-null   bool  \n",
            " 33  State_Lakshadweep                               3110 non-null   bool  \n",
            " 34  State_Madhya Pradesh                            3110 non-null   bool  \n",
            " 35  State_Madhya Pradesh***                         3110 non-null   bool  \n",
            " 36  State_Maharashtra                               3110 non-null   bool  \n",
            " 37  State_Maharashtra***                            3110 non-null   bool  \n",
            " 38  State_Manipur                                   3110 non-null   bool  \n",
            " 39  State_Meghalaya                                 3110 non-null   bool  \n",
            " 40  State_Mizoram                                   3110 non-null   bool  \n",
            " 41  State_Nagaland                                  3110 non-null   bool  \n",
            " 42  State_Odisha                                    3110 non-null   bool  \n",
            " 43  State_Puducherry                                3110 non-null   bool  \n",
            " 44  State_Punjab                                    3110 non-null   bool  \n",
            " 45  State_Rajasthan                                 3110 non-null   bool  \n",
            " 46  State_Sikkim                                    3110 non-null   bool  \n",
            " 47  State_Tamil Nadu                                3110 non-null   bool  \n",
            " 48  State_Telangana                                 3110 non-null   bool  \n",
            " 49  State_Tripura                                   3110 non-null   bool  \n",
            " 50  State_Uttar Pradesh                             3110 non-null   bool  \n",
            " 51  State_Uttarakhand                               3110 non-null   bool  \n",
            " 52  State_West Bengal                               3110 non-null   bool  \n",
            "dtypes: Int64(5), bool(41), int32(5), string(2)\n",
            "memory usage: 370.7 KB\n"
          ]
        }
      ]
    },
    {
      "cell_type": "code",
      "source": [
        "# def forecast_deaths(df2,df3):\n",
        "#     forecasts = []\n",
        "#     for state_code, state_data in df3.groupby('State'):\n",
        "#         train_state_data = df2[df2['State'] == state_code]['Deaths']\n",
        "#         model = ARIMA(train_state_data, order=(5,1,0))  # Example ARIMA order\n",
        "#         model_fit = model.fit()\n",
        "#         forecast = model_fit.forecast(steps=len(state_data))[0]\n",
        "#         forecasts.extend(forecast)\n",
        "#     return forcastes"
      ],
      "metadata": {
        "execution": {
          "iopub.status.busy": "2024-04-26T05:32:00.051635Z",
          "iopub.execute_input": "2024-04-26T05:32:00.051993Z",
          "iopub.status.idle": "2024-04-26T05:32:00.056399Z",
          "shell.execute_reply.started": "2024-04-26T05:32:00.051965Z",
          "shell.execute_reply": "2024-04-26T05:32:00.055552Z"
        },
        "trusted": true,
        "id": "9UjZm1HwwVM6"
      },
      "execution_count": 13,
      "outputs": []
    },
    {
      "cell_type": "code",
      "source": [
        "# predicted_deaths = forecast_deaths(df2,df3)"
      ],
      "metadata": {
        "execution": {
          "iopub.status.busy": "2024-04-26T05:32:00.736979Z",
          "iopub.execute_input": "2024-04-26T05:32:00.737259Z",
          "iopub.status.idle": "2024-04-26T05:32:00.740782Z",
          "shell.execute_reply.started": "2024-04-26T05:32:00.737235Z",
          "shell.execute_reply": "2024-04-26T05:32:00.739963Z"
        },
        "trusted": true,
        "id": "E1mR1ES6wVM6"
      },
      "execution_count": 14,
      "outputs": []
    },
    {
      "cell_type": "code",
      "source": [
        "# # Prepare submission file\n",
        "# submission_data['Deaths'] = predicted_deaths\n",
        "# submission_data.to_csv(\"forecasted_deaths.csv\", index=False)"
      ],
      "metadata": {
        "execution": {
          "iopub.status.busy": "2024-04-26T05:32:00.982723Z",
          "iopub.execute_input": "2024-04-26T05:32:00.983354Z",
          "iopub.status.idle": "2024-04-26T05:32:00.986775Z",
          "shell.execute_reply.started": "2024-04-26T05:32:00.983328Z",
          "shell.execute_reply": "2024-04-26T05:32:00.985947Z"
        },
        "trusted": true,
        "id": "TBVxBmgvwVM7"
      },
      "execution_count": 15,
      "outputs": []
    },
    {
      "cell_type": "code",
      "source": [
        "x = df2[['Sno','Cured','Confirmed', 'OxygenTanks','Year','Month','Day','Hour']]\n",
        "y=df2['Deaths']"
      ],
      "metadata": {
        "execution": {
          "iopub.status.busy": "2024-04-26T05:32:15.246351Z",
          "iopub.execute_input": "2024-04-26T05:32:15.247106Z",
          "iopub.status.idle": "2024-04-26T05:32:15.255043Z",
          "shell.execute_reply.started": "2024-04-26T05:32:15.247074Z",
          "shell.execute_reply": "2024-04-26T05:32:15.254218Z"
        },
        "trusted": true,
        "id": "dN7qH14LwVM7"
      },
      "execution_count": 36,
      "outputs": []
    },
    {
      "cell_type": "code",
      "source": [
        "X = df3[['Sno','Cured','Confirmed', 'OxygenTanks','Year','Month','Day','Hour']]"
      ],
      "metadata": {
        "execution": {
          "iopub.status.busy": "2024-04-26T05:33:00.474440Z",
          "iopub.execute_input": "2024-04-26T05:33:00.474766Z",
          "iopub.status.idle": "2024-04-26T05:33:00.480649Z",
          "shell.execute_reply.started": "2024-04-26T05:33:00.474743Z",
          "shell.execute_reply": "2024-04-26T05:33:00.479698Z"
        },
        "trusted": true,
        "id": "MeHrsD_dwVM7"
      },
      "execution_count": 37,
      "outputs": []
    },
    {
      "cell_type": "code",
      "source": [
        "from sklearn.ensemble import RandomForestRegressor\n",
        "model = RandomForestRegressor(n_estimators=100,random_state=1)\n",
        "model.fit(x,y)\n",
        "\n",
        "# Extract feature importances\n",
        "feature_importances = model.feature_importances_\n",
        "\n",
        "# Create a DataFrame to display feature importances\n",
        "importance_df = pd.DataFrame({'Feature': x.columns, 'Importance': feature_importances})\n",
        "importance_df = importance_df.sort_values(by='Importance', ascending=False)\n",
        "print(importance_df)"
      ],
      "metadata": {
        "execution": {
          "iopub.status.busy": "2024-04-26T05:35:20.465391Z",
          "iopub.execute_input": "2024-04-26T05:35:20.466093Z",
          "iopub.status.idle": "2024-04-26T05:35:27.638669Z",
          "shell.execute_reply.started": "2024-04-26T05:35:20.466060Z",
          "shell.execute_reply": "2024-04-26T05:35:27.637719Z"
        },
        "trusted": true,
        "colab": {
          "base_uri": "https://localhost:8080/"
        },
        "id": "lTVrKS9owVM7",
        "outputId": "6d7514fe-1483-416a-8205-da4c9d637290"
      },
      "execution_count": 38,
      "outputs": [
        {
          "output_type": "stream",
          "name": "stdout",
          "text": [
            "       Feature    Importance\n",
            "1        Cured  6.978279e-01\n",
            "2    Confirmed  2.362227e-01\n",
            "0          Sno  4.385668e-02\n",
            "5        Month  1.021586e-02\n",
            "4         Year  9.641544e-03\n",
            "6          Day  1.293324e-03\n",
            "3  OxygenTanks  9.418767e-04\n",
            "7         Hour  5.152422e-08\n"
          ]
        }
      ]
    },
    {
      "cell_type": "code",
      "source": [
        "predictions = model.predict(X)\n",
        "forecast= pd.DataFrame({'Sno': X['Sno'], 'Deaths': predictions})"
      ],
      "metadata": {
        "execution": {
          "iopub.status.busy": "2024-04-26T05:35:27.640363Z",
          "iopub.execute_input": "2024-04-26T05:35:27.640649Z",
          "iopub.status.idle": "2024-04-26T05:35:27.676498Z",
          "shell.execute_reply.started": "2024-04-26T05:35:27.640624Z",
          "shell.execute_reply": "2024-04-26T05:35:27.675633Z"
        },
        "trusted": true,
        "id": "-w4oxC0YwVM7"
      },
      "execution_count": 39,
      "outputs": []
    },
    {
      "cell_type": "code",
      "source": [
        "predictions"
      ],
      "metadata": {
        "execution": {
          "iopub.status.busy": "2024-04-26T05:35:27.677650Z",
          "iopub.execute_input": "2024-04-26T05:35:27.678026Z",
          "iopub.status.idle": "2024-04-26T05:35:27.683985Z",
          "shell.execute_reply.started": "2024-04-26T05:35:27.677994Z",
          "shell.execute_reply": "2024-04-26T05:35:27.683114Z"
        },
        "trusted": true,
        "colab": {
          "base_uri": "https://localhost:8080/"
        },
        "id": "6e1I9nuYwVM7",
        "outputId": "76313f1b-e033-419e-c1c4-0d52fb20c67d"
      },
      "execution_count": 40,
      "outputs": [
        {
          "output_type": "execute_result",
          "data": {
            "text/plain": [
              "array([  297.4 ,    45.6 ,   206.05, ...,  3495.87, 18337.8 , 15396.33])"
            ]
          },
          "metadata": {},
          "execution_count": 40
        }
      ]
    },
    {
      "cell_type": "code",
      "source": [
        "predictions"
      ],
      "metadata": {
        "execution": {
          "iopub.status.busy": "2024-04-26T05:35:53.440345Z",
          "iopub.execute_input": "2024-04-26T05:35:53.440685Z",
          "iopub.status.idle": "2024-04-26T05:35:53.447145Z",
          "shell.execute_reply.started": "2024-04-26T05:35:53.440660Z",
          "shell.execute_reply": "2024-04-26T05:35:53.446175Z"
        },
        "trusted": true,
        "colab": {
          "base_uri": "https://localhost:8080/"
        },
        "id": "EnkF72huwVM8",
        "outputId": "92ea4a62-33fd-4cde-9d6c-5e531a42a1a1"
      },
      "execution_count": 41,
      "outputs": [
        {
          "output_type": "execute_result",
          "data": {
            "text/plain": [
              "array([  297.4 ,    45.6 ,   206.05, ...,  3495.87, 18337.8 , 15396.33])"
            ]
          },
          "metadata": {},
          "execution_count": 41
        }
      ]
    },
    {
      "cell_type": "code",
      "source": [
        "forecast.to_csv(\"Forecasted21.csv\",index=False)\n",
        "predictions"
      ],
      "metadata": {
        "execution": {
          "iopub.status.busy": "2024-04-26T04:51:51.052524Z",
          "iopub.execute_input": "2024-04-26T04:51:51.052871Z",
          "iopub.status.idle": "2024-04-26T04:51:51.067245Z",
          "shell.execute_reply.started": "2024-04-26T04:51:51.052843Z",
          "shell.execute_reply": "2024-04-26T04:51:51.066312Z"
        },
        "trusted": true,
        "colab": {
          "base_uri": "https://localhost:8080/"
        },
        "id": "k1BcwzBRwVM8",
        "outputId": "cb6ddbe7-1f8d-4316-96f4-5b03ae044b45"
      },
      "execution_count": 42,
      "outputs": [
        {
          "output_type": "execute_result",
          "data": {
            "text/plain": [
              "array([  297.4 ,    45.6 ,   206.05, ...,  3495.87, 18337.8 , 15396.33])"
            ]
          },
          "metadata": {},
          "execution_count": 42
        }
      ]
    },
    {
      "cell_type": "code",
      "source": [
        "import matplotlib.pyplot as plt\n",
        "plt.plot(df3['Day'],df3['Confirmed'],color='black')\n",
        "plt.plot(df3['Day'],df3['Cured'],color='yellow')\n",
        "plt.show()"
      ],
      "metadata": {
        "execution": {
          "iopub.status.busy": "2024-04-26T04:05:20.507034Z",
          "iopub.execute_input": "2024-04-26T04:05:20.507370Z",
          "iopub.status.idle": "2024-04-26T04:05:20.746471Z",
          "shell.execute_reply.started": "2024-04-26T04:05:20.507346Z",
          "shell.execute_reply": "2024-04-26T04:05:20.745563Z"
        },
        "trusted": true,
        "colab": {
          "base_uri": "https://localhost:8080/",
          "height": 445
        },
        "id": "XjRALkuQwVM8",
        "outputId": "45ab3e15-6418-4841-e163-f8553b61ea67"
      },
      "execution_count": 43,
      "outputs": [
        {
          "output_type": "display_data",
          "data": {
            "text/plain": [
              "<Figure size 640x480 with 1 Axes>"
            ],
            "image/png": "[encoded data removed]"
          },
          "metadata": {}
        }
      ]
    },
    {
      "cell_type": "code",
      "source": [],
      "metadata": {
        "id": "qoK5GLjO3l3E"
      },
      "execution_count": null,
      "outputs": []
    }
  ]
}